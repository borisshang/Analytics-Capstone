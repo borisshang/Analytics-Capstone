{
 "cells": [
  {
   "cell_type": "markdown",
   "metadata": {},
   "source": [
    "# Gun Violence Data \n",
    "# Capstone Project --- Yu Shang)\n",
    "## ALY6140"
   ]
  },
  {
   "cell_type": "markdown",
   "metadata": {},
   "source": [
    "## Introduction\n",
    "\n",
    "### This dataset is downloading from https://github.com/jamesqo/gun-violence-data\n",
    "### This repository contains data for all recorded gun violence incidents in the US between January 2013 and March 2018. This record includes more than 260k gun violence incidents, with detailed information about each incident and avaliable in CSV format. It is for data scientists and statisticians to study gun violence and predict future trends.\n"
   ]
  },
  {
   "cell_type": "code",
   "execution_count": null,
   "metadata": {
    "scrolled": false
   },
   "outputs": [],
   "source": [
    "import pandas as pd\n",
    "import matplotlib.pyplot as plt\n",
    "import numpy as np\n",
    "import seaborn as sns\n",
    "\n",
    "# Read the csv file\n",
    "data = pd.read_csv('C:\\\\Users\\\\boris\\\\Desktop\\\\Capstone Project\\\\gun-violence-data(Yu Shang).csv')\n",
    "# Consider which columns will be used in the project\n",
    "data.columns"
   ]
  },
  {
   "cell_type": "markdown",
   "metadata": {},
   "source": [
    "## Data Cleanup\n",
    "\n",
    "### This dataset contains complex data types. Most of them are objects and combined with strings and symbols. For example \"participant_age\" is stored as: 0::25||1::31||2::33||3::34||4::33, which means there are four pariticipant criminals and the first person with an age of 25, second person with an age of 31... etc. Same as \"participant_gender\": 0::Male||1::Male||2::Male||3::Male||4::Male"
   ]
  },
  {
   "cell_type": "code",
   "execution_count": null,
   "metadata": {
    "scrolled": false
   },
   "outputs": [],
   "source": [
    "# Filtering the columns that I will need in this project\n",
    "data[['date', 'state', 'city_or_county', 'n_killed', 'n_injured','gun_type', 'incident_characteristics', 'location_description',\n",
    "      'n_guns_involved', 'participant_age', 'participant_age_group', 'participant_gender','participant_name', 'participant_relationship', \n",
    "      'participant_status',]].head()"
   ]
  },
  {
   "cell_type": "code",
   "execution_count": null,
   "metadata": {
    "scrolled": true
   },
   "outputs": [],
   "source": [
    "# converting the original column \"participant_age\" to a cleaned column \"Age\"\n",
    "def convert_format(x):\n",
    "    x = str(x)\n",
    "    y = x.split(\"||\")\n",
    "    d = {}\n",
    "    for item in y:\n",
    "        ylist = item.split(\"::\")\n",
    "        if len(ylist) > 1:\n",
    "            d[ylist[0]] = ylist[1]\n",
    "    if not d:\n",
    "        return[]\n",
    "    return list(d.values())\n",
    "data['Age'] = data['participant_age'].apply(lambda x:convert_format(x))\n",
    "data[['participant_age','Age']].head(10)"
   ]
  },
  {
   "cell_type": "code",
   "execution_count": null,
   "metadata": {},
   "outputs": [],
   "source": [
    "# converting the original column \"date\" to a cleaned column \"Year\", for better category on years\n",
    "def convert_year(aa):\n",
    "    bb = aa.split('-')\n",
    "    return bb[0]   \n",
    "data['Year'] = data['date'].apply(lambda aa:convert_year(aa))\n",
    "data[['date','Year']].head(10)"
   ]
  },
  {
   "cell_type": "code",
   "execution_count": null,
   "metadata": {},
   "outputs": [],
   "source": [
    "# converting the original column \"date\" to three cleaned column \"Year\", \"Month\", and \"Day\" .\n",
    "def convert_month(aa):\n",
    "    bb = aa.split('-')\n",
    "    return int(bb[1])   \n",
    "data['Month'] = data['date'].apply(lambda aa:convert_month(aa))\n",
    "def convert_days(aa):\n",
    "    bb = aa.split('-')\n",
    "    return int(bb[2])   \n",
    "data['Day'] = data['date'].apply(lambda aa:convert_days(aa))\n",
    "data[['date','Year','Month','Day']].head(10)"
   ]
  },
  {
   "cell_type": "code",
   "execution_count": null,
   "metadata": {
    "scrolled": false
   },
   "outputs": [],
   "source": [
    "# converting the original column \"participant_gender\" to a cleaned column \"Gender\".\n",
    "data['Gender'] = data['participant_gender'].apply(lambda x:convert_format(x))\n",
    "data[['Gender','participant_gender']].head(10)"
   ]
  },
  {
   "cell_type": "markdown",
   "metadata": {},
   "source": [
    "## Analyzing"
   ]
  },
  {
   "cell_type": "markdown",
   "metadata": {},
   "source": [
    "### After few searching according to the legal ages for buying guns, I found out that  under federal law, the minimum age to buy a handgun from a licensed dealer is 21. But the age limit drops to 18 if the gun is being purchased from a private, unlicensed seller, which could be a neighbor or someone online, or at gun show. "
   ]
  },
  {
   "cell_type": "code",
   "execution_count": null,
   "metadata": {
    "scrolled": true
   },
   "outputs": [],
   "source": [
    "# For better use of the modified column \"Age\", I created a list of all participants age\n",
    "age_list = []\n",
    "i = 0\n",
    "while i < len(data.Age):\n",
    "    age_list.extend(data.Age[i])\n",
    "    i = i + 1\n",
    "age_series = pd.Series(age_list)\n",
    "\n",
    "\n",
    "age_int = age_series.astype(int)\n",
    "age_to_list = age_int.values.tolist()\n",
    "agelist = []\n",
    "# Filtering the age list (14 < AGE < 61)\n",
    "for a in age_to_list:\n",
    "    if a > 14 and a < 61:\n",
    "        agelist.append(a)\n",
    "age_clean = pd.Series(agelist)\n",
    "age = age_clean.value_counts().sort_index(axis = 0)\n",
    "age"
   ]
  },
  {
   "cell_type": "markdown",
   "metadata": {},
   "source": [
    "### This data visualization graph shows correlation between age and the number of pariticipants in criminal. As we can see from the graph, according to the trend line shows, as the ages are increasing, the number of participants in criminals are decreasing. They have a strong negative correlation."
   ]
  },
  {
   "cell_type": "code",
   "execution_count": null,
   "metadata": {
    "scrolled": true
   },
   "outputs": [],
   "source": [
    "# Drawing a scatter plot\n",
    "plt.scatter(age.index,age.values)\n",
    "plt.xlabel('Age')\n",
    "plt.ylabel('Number of Criminal Participants')\n",
    "plt.title('Age vs. Number of Participants Involved in Gun Violence')"
   ]
  },
  {
   "cell_type": "code",
   "execution_count": null,
   "metadata": {
    "scrolled": true
   },
   "outputs": [],
   "source": [
    "age_frame = pd.DataFrame({'Age': age.index, 'Number of Participants in Criminals': age.values})\n",
    "sns.regplot(x = 'Age', y = 'Number of Participants in Criminals', data = age_frame, fit_reg = True)\n",
    "plt.ylim(0, 12000)\n",
    "plt.title('Age vs. Number of Participants Involved in Gun Violence')"
   ]
  },
  {
   "cell_type": "markdown",
   "metadata": {},
   "source": [
    "### This histogram shows people who participant the gun violence under different age. We noticed that most of the gun violence participants are aged around 18,19,20. According to this histogram, I think we should enhance the controls of guns among teenagers and people who sell the guns to them. "
   ]
  },
  {
   "cell_type": "code",
   "execution_count": null,
   "metadata": {},
   "outputs": [],
   "source": [
    "age123 = age_series.value_counts().head(15).sort_index(axis = 0)\n",
    "plt.bar(age123.index, age123.values, 0.8)\n",
    "plt.ylabel('Number of Participants at that Age')\n",
    "plt.xlabel('Participant Age')\n",
    "plt.title('People who participant the gun violence under different age')"
   ]
  },
  {
   "cell_type": "markdown",
   "metadata": {},
   "source": [
    "### This graph shows the total amount of people who got injured and killed in different year. Since the data are only recorded until March 2018, so I believe that there are more victims in 2018 than it shows. The trend of people who are getting killed and injured by gun shot are not decreasing, but as we can see, the victims from 2017 has no dramatically changed from 2016."
   ]
  },
  {
   "cell_type": "code",
   "execution_count": null,
   "metadata": {},
   "outputs": [],
   "source": [
    "# The number of people got killed during the gun violence are classified by years\n",
    "n_kill = data.groupby('Year')['n_killed'].sum()\n",
    "n_kill"
   ]
  },
  {
   "cell_type": "code",
   "execution_count": null,
   "metadata": {
    "scrolled": true
   },
   "outputs": [],
   "source": [
    "# The number of people got injured during the gun violence are classified by years\n",
    "n_injury = data.groupby('Year')['n_injured'].sum()\n",
    "n_injury"
   ]
  },
  {
   "cell_type": "code",
   "execution_count": null,
   "metadata": {
    "scrolled": true
   },
   "outputs": [],
   "source": [
    "#plot the histogram with years on x-axis and number of people on the y-axis.\n",
    "plt.bar(n_kill.index, n_kill.values, bottom = n_injury.values)\n",
    "plt.bar(n_injury.index, n_injury.values)\n",
    "plt.legend(['People got killed', 'People got injured'])"
   ]
  },
  {
   "cell_type": "markdown",
   "metadata": {},
   "source": [
    "### The purpose of showing these two historgrams is to analyze whethere there is a specific month or day on gun violence. Maybe any religions and festivals invloved? According to what I found, there is no special days, but the number of victims are huge  in the beginning of the year, espeically in January and March."
   ]
  },
  {
   "cell_type": "code",
   "execution_count": null,
   "metadata": {
    "scrolled": false
   },
   "outputs": [],
   "source": [
    "kill_day = data.groupby('Day')['n_killed'].sum()\n",
    "plt.bar(kill_day.index, kill_day.values)"
   ]
  },
  {
   "cell_type": "code",
   "execution_count": null,
   "metadata": {},
   "outputs": [],
   "source": [
    "kill_month = data.groupby('Month')['n_killed'].sum()\n",
    "plt.bar(kill_month.index, kill_month.values)"
   ]
  },
  {
   "cell_type": "markdown",
   "metadata": {},
   "source": [
    "### Incident happened among genders. As we can see, 88% of the participants are males and 12% are females"
   ]
  },
  {
   "cell_type": "code",
   "execution_count": null,
   "metadata": {},
   "outputs": [],
   "source": [
    "#Calculate the participants by gender\n",
    "gender_list = []\n",
    "i = 0\n",
    "while i < len(data.Gender):\n",
    "    gender_list.extend(data.Gender[i])\n",
    "    i = i + 1\n",
    "gender_series = pd.Series(gender_list)\n",
    "gender123 = gender_series.value_counts().head(2)\n",
    "gender123"
   ]
  },
  {
   "cell_type": "code",
   "execution_count": null,
   "metadata": {
    "scrolled": true
   },
   "outputs": [],
   "source": [
    "#Creating a pie chart for better visualization\n",
    "total = gender123[0] + gender123[1]\n",
    "female_percent = gender123[1] / total * 100\n",
    "male_percent = gender123[0] / total * 100\n",
    "plt.figure(figsize=(10, 6))\n",
    "plt.pie(x=[round(female_percent),round(male_percent)], explode=[0, 0.1], autopct='%0.1f%%', labels=['Female', 'Male'])"
   ]
  },
  {
   "cell_type": "markdown",
   "metadata": {},
   "source": [
    "### This part shows people that are killed in gun violence by different state. California, Texas, and Florida has the most victims that are killed by gun shot."
   ]
  },
  {
   "cell_type": "code",
   "execution_count": null,
   "metadata": {
    "scrolled": true
   },
   "outputs": [],
   "source": [
    "nums1 = data.groupby('state')['n_killed'].sum()\n",
    "nums11 = nums1.sort_values(ascending=False).head(10).sort_index(axis = 0)\n",
    "nums1.sort_values(ascending=False)"
   ]
  },
  {
   "cell_type": "code",
   "execution_count": null,
   "metadata": {
    "scrolled": true
   },
   "outputs": [],
   "source": [
    "#bar graph\n",
    "plt.barh(nums11.index, nums11.values, 0.8)\n",
    "plt.ylabel('State')\n",
    "plt.xlabel('People got Killed')\n",
    "plt.title('People Who Get Killed By Gun Shot In Top 10 State')"
   ]
  },
  {
   "cell_type": "markdown",
   "metadata": {},
   "source": [
    "### This part shows people that are injured in gun violence by different state. Illinois, California, and Florida  has the most victims that are injured by gun shot."
   ]
  },
  {
   "cell_type": "code",
   "execution_count": null,
   "metadata": {},
   "outputs": [],
   "source": [
    "nums2 = data.groupby('state')['n_injured'].sum()\n",
    "nums22 = nums2.sort_values(ascending=False).head(10).sort_index(axis = 0)\n",
    "nums2.sort_values(ascending=False)"
   ]
  },
  {
   "cell_type": "code",
   "execution_count": null,
   "metadata": {
    "scrolled": true
   },
   "outputs": [],
   "source": [
    "plt.barh(nums22.index, nums22.values, 0.8)\n",
    "plt.ylabel('State')\n",
    "plt.xlabel('People Injured')\n",
    "plt.title('People Who Get Injured By Gun Shot In Top 10 State')"
   ]
  },
  {
   "cell_type": "markdown",
   "metadata": {},
   "source": [
    "### After demonstrating the number of people that are killed and injured in different state separately, I want to combine them to find out where the gun violence are happened the most. Then we can better control and regualte the gun law. The result are Illinois, California, Texas, Florida, and Ohio. "
   ]
  },
  {
   "cell_type": "code",
   "execution_count": null,
   "metadata": {
    "scrolled": true
   },
   "outputs": [],
   "source": [
    "victim = pd.concat([nums1, nums2], axis = 1)\n",
    "victim['total'] = victim['n_killed'] + victim['n_injured']\n",
    "victim"
   ]
  },
  {
   "cell_type": "code",
   "execution_count": null,
   "metadata": {
    "scrolled": false
   },
   "outputs": [],
   "source": [
    "vic = victim.nlargest(5,'total')\n",
    "plt.bar(vic.index, vic['n_killed'], bottom = vic['n_injured'])\n",
    "plt.bar(vic.index, vic['n_injured'])\n",
    "plt.legend(['People got killed', 'People got injured'])\n",
    "plt.xlabel('State')\n",
    "plt.ylabel('Number of Victims')\n",
    "plt.title('Top 5 States With Most Victims')"
   ]
  },
  {
   "cell_type": "markdown",
   "metadata": {},
   "source": [
    "## Predictive Analytics"
   ]
  },
  {
   "cell_type": "markdown",
   "metadata": {},
   "source": [
    "### In this part, I had two hypotheses. The first one I assumed that there is a negative correlation between the age of the criminal participants and the number of victims in the gun violence. The second one I assumed there is a positive correlation between the number of criminal participants and the number of victims in the gun violence."
   ]
  },
  {
   "cell_type": "code",
   "execution_count": null,
   "metadata": {},
   "outputs": [],
   "source": [
    "import statsmodels\n",
    "import statsmodels.api as sm\n",
    "import statsmodels.formula.api as smf\n",
    "\n",
    "def convert_format(x):\n",
    "    x = str(x)\n",
    "    y = x.split(\"||\")\n",
    "    d = {}\n",
    "    for item in y:\n",
    "        ylist = item.split(\"::\")\n",
    "        if len(ylist) > 1:\n",
    "            d[ylist[0]] = ylist[1]\n",
    "    if not d:\n",
    "        return np.nan\n",
    "    return list(d.values())\n",
    "data['cleaned_Age'] = data['participant_age'].apply(lambda x:convert_format(x))\n",
    "data[['participant_age','cleaned_Age']].head(10)"
   ]
  },
  {
   "cell_type": "code",
   "execution_count": null,
   "metadata": {
    "scrolled": false
   },
   "outputs": [],
   "source": [
    "age_kill = data[['cleaned_Age','n_killed','n_injured']].dropna()\n",
    "df1 = pd.DataFrame(age_kill)\n",
    "df1.head()"
   ]
  },
  {
   "cell_type": "code",
   "execution_count": null,
   "metadata": {
    "scrolled": false
   },
   "outputs": [],
   "source": [
    "def Average(x):\n",
    "    sum = 0\n",
    "    count = 0\n",
    "    for i in x:\n",
    "          sum = sum + int(i)\n",
    "    return sum / len(x)\n",
    "\n",
    "def n_participant(y):\n",
    "    return len(y)\n",
    "\n",
    "df1['Age_mean'] = df1['cleaned_Age'].apply(lambda x: Average(x))\n",
    "df1['number_of_participant'] =  df1['cleaned_Age'].apply(lambda y: n_participant(y))\n",
    "df1['Victims'] = df1['n_killed'] + df1['n_injured']\n",
    "df1[['Age_mean','n_killed','n_injured','Victims','number_of_participant']]"
   ]
  },
  {
   "cell_type": "code",
   "execution_count": null,
   "metadata": {},
   "outputs": [],
   "source": [
    "df2 = df1[(df1['Age_mean'] > 14) & (df1['Age_mean'] < 61)]\n",
    "df2[['Age_mean','n_killed','n_injured','Victims']]"
   ]
  },
  {
   "cell_type": "code",
   "execution_count": null,
   "metadata": {},
   "outputs": [],
   "source": [
    "sns.regplot(x = \"Age_mean\", y = \"Victims\", data = df2)\n",
    "plt.xlabel('Age of criminals')\n",
    "plt.ylabel('Number of Victims')\n",
    "plt.title('Age vs. Number of Victims')\n",
    "plt.xlim(14,60)\n",
    "plt.ylim(0,40)"
   ]
  },
  {
   "cell_type": "code",
   "execution_count": null,
   "metadata": {},
   "outputs": [],
   "source": [
    "from patsy import dmatrices\n",
    "y,X = dmatrices('Victims ~ Age_mean', data=df2)\n",
    "print(\"y:{}\".format(y.shape))\n",
    "print(\"X:{}\".format(X.shape))"
   ]
  },
  {
   "cell_type": "code",
   "execution_count": null,
   "metadata": {
    "scrolled": true
   },
   "outputs": [],
   "source": [
    "import statsmodels\n",
    "import statsmodels.api as sm\n",
    "import statsmodels.formula.api as smf\n",
    "\n",
    "result1 = smf.ols('Victims ~ Age_mean', data = df2).fit()\n",
    "print(result1.params)\n",
    "result1.summary()"
   ]
  },
  {
   "cell_type": "code",
   "execution_count": null,
   "metadata": {
    "scrolled": true
   },
   "outputs": [],
   "source": [
    "plt.scatter(df2.Age_mean, df2.Victims)\n",
    "plt.plot(df2.Age_mean, result1.fittedvalues, 'r-')\n",
    "plt.xlabel('Age_mean')\n",
    "plt.ylabel('Number of Victims')\n",
    "plt.title('Trend on number of Victims based on Criminal Participants ages ')"
   ]
  },
  {
   "cell_type": "markdown",
   "metadata": {},
   "source": [
    "### In conclusion, it shows that there is no correlation bewtween the number of victims and the age of the criminal pariticipants.  I assume my dependent variable is number of the victims and the independent variable is the participants' age. The reason why I made this hypothesis, is because according to previous analysis, I found out that most of the participants are around 18-20, so I want to dig more on this and how they behave."
   ]
  },
  {
   "cell_type": "code",
   "execution_count": null,
   "metadata": {
    "scrolled": true
   },
   "outputs": [],
   "source": [
    "sns.regplot(x = \"number_of_participant\", y = \"Victims\", data = df1)"
   ]
  },
  {
   "cell_type": "code",
   "execution_count": null,
   "metadata": {},
   "outputs": [],
   "source": [
    "result3 = smf.ols('Victims ~ number_of_participant', data = df1).fit()\n",
    "print(result3.params)\n",
    "result3.summary()"
   ]
  },
  {
   "cell_type": "code",
   "execution_count": null,
   "metadata": {},
   "outputs": [],
   "source": [
    "plt.scatter(df1.number_of_participant, df1.Victims)\n",
    "plt.plot(df1.number_of_participant, result3.fittedvalues, 'r-')\n",
    "plt.xlabel('Number of Criminal Participants')\n",
    "plt.ylabel('Number of Victims')\n",
    "plt.title('Trend on number of Victims based on the number of participant')"
   ]
  },
  {
   "cell_type": "markdown",
   "metadata": {},
   "source": [
    "### In conclusion, it shows that there is a positive correlation bewtween the number of criminal participants and the number of victims. Which may indicate some gang conflicts and should be better controled by US government to decrease the number of the victims. In this case, the dependent variable is the number of victims and the independent variable is the number of criminal participants. One point is worth mentioning is that, China regulate guns and weapons strictly with laws, it is illegal to possess a gun, whereas people can buy guns with gun license over 21 in united state. I searched that it is lawful to buy a gun with a gun license over 21, but there is no detail declaring the age of possess of the gun, and this will bring market and opportunities for teenagers to access the guns without permission and a right way of using it."
   ]
  },
  {
   "cell_type": "code",
   "execution_count": null,
   "metadata": {},
   "outputs": [],
   "source": []
  }
 ],
 "metadata": {
  "kernelspec": {
   "display_name": "ALY6140",
   "language": "python",
   "name": "py36"
  },
  "language_info": {
   "codemirror_mode": {
    "name": "ipython",
    "version": 3
   },
   "file_extension": ".py",
   "mimetype": "text/x-python",
   "name": "python",
   "nbconvert_exporter": "python",
   "pygments_lexer": "ipython3",
   "version": "3.7.4"
  }
 },
 "nbformat": 4,
 "nbformat_minor": 2
}
