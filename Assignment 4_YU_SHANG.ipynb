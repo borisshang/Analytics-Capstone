{
 "cells": [
  {
   "cell_type": "code",
   "execution_count": 4,
   "metadata": {
    "scrolled": true
   },
   "outputs": [
    {
     "data": {
      "text/html": [
       "<div>\n",
       "<style scoped>\n",
       "    .dataframe tbody tr th:only-of-type {\n",
       "        vertical-align: middle;\n",
       "    }\n",
       "\n",
       "    .dataframe tbody tr th {\n",
       "        vertical-align: top;\n",
       "    }\n",
       "\n",
       "    .dataframe thead th {\n",
       "        text-align: right;\n",
       "    }\n",
       "</style>\n",
       "<table border=\"1\" class=\"dataframe\">\n",
       "  <thead>\n",
       "    <tr style=\"text-align: right;\">\n",
       "      <th></th>\n",
       "      <th>total_bill</th>\n",
       "      <th>tip</th>\n",
       "      <th>sex</th>\n",
       "      <th>smoker</th>\n",
       "      <th>day</th>\n",
       "      <th>time</th>\n",
       "      <th>size</th>\n",
       "    </tr>\n",
       "  </thead>\n",
       "  <tbody>\n",
       "    <tr>\n",
       "      <th>0</th>\n",
       "      <td>16.99</td>\n",
       "      <td>1.01</td>\n",
       "      <td>Female</td>\n",
       "      <td>No</td>\n",
       "      <td>Sun</td>\n",
       "      <td>Dinner</td>\n",
       "      <td>2</td>\n",
       "    </tr>\n",
       "    <tr>\n",
       "      <th>1</th>\n",
       "      <td>10.34</td>\n",
       "      <td>1.66</td>\n",
       "      <td>Male</td>\n",
       "      <td>No</td>\n",
       "      <td>Sun</td>\n",
       "      <td>Dinner</td>\n",
       "      <td>3</td>\n",
       "    </tr>\n",
       "    <tr>\n",
       "      <th>2</th>\n",
       "      <td>21.01</td>\n",
       "      <td>3.50</td>\n",
       "      <td>Male</td>\n",
       "      <td>No</td>\n",
       "      <td>Sun</td>\n",
       "      <td>Dinner</td>\n",
       "      <td>3</td>\n",
       "    </tr>\n",
       "    <tr>\n",
       "      <th>3</th>\n",
       "      <td>23.68</td>\n",
       "      <td>3.31</td>\n",
       "      <td>Male</td>\n",
       "      <td>No</td>\n",
       "      <td>Sun</td>\n",
       "      <td>Dinner</td>\n",
       "      <td>2</td>\n",
       "    </tr>\n",
       "    <tr>\n",
       "      <th>4</th>\n",
       "      <td>24.59</td>\n",
       "      <td>3.61</td>\n",
       "      <td>Female</td>\n",
       "      <td>No</td>\n",
       "      <td>Sun</td>\n",
       "      <td>Dinner</td>\n",
       "      <td>4</td>\n",
       "    </tr>\n",
       "  </tbody>\n",
       "</table>\n",
       "</div>"
      ],
      "text/plain": [
       "   total_bill   tip     sex smoker  day    time  size\n",
       "0       16.99  1.01  Female     No  Sun  Dinner     2\n",
       "1       10.34  1.66    Male     No  Sun  Dinner     3\n",
       "2       21.01  3.50    Male     No  Sun  Dinner     3\n",
       "3       23.68  3.31    Male     No  Sun  Dinner     2\n",
       "4       24.59  3.61  Female     No  Sun  Dinner     4"
      ]
     },
     "execution_count": 4,
     "metadata": {},
     "output_type": "execute_result"
    }
   ],
   "source": [
    "import seaborn as sns\n",
    "tips = sns.load_dataset('tips')\n",
    "tips.head()"
   ]
  },
  {
   "cell_type": "markdown",
   "metadata": {},
   "source": [
    "### GRADED \n",
    "Use global and groupby aggregates to answer the following questions\n",
    "\n",
    "    - What is the average tip amount \n",
    "    - What is the average bill amount \n",
    "    - What is the average tip by gender \n",
    "    - What is the average tip on a sunday by gender \n",
    "    - Which party size gives the maximum tip as a percent of total bill amount "
   ]
  },
  {
   "cell_type": "markdown",
   "metadata": {},
   "source": [
    "### GRADED\n",
    "    - Generate a scatter plot of tip amount (y-axis) and total_bill (x-axis)\n",
    "    - Generate the plots using matplotlib, bokeh and seaborn\n"
   ]
  },
  {
   "cell_type": "markdown",
   "metadata": {},
   "source": [
    "### GRADED\n",
    "    - Generate a box plot that shows average bill amount by day of week\n",
    "    - Generate a box plot that shows average bill amount by gender\n",
    "    - Show the above two plots side by side\n",
    "    - Generate the same plots using matplotlib and bokeh"
   ]
  },
  {
   "cell_type": "markdown",
   "metadata": {},
   "source": [
    "### GRADED\n",
    "    - Using seaborn lmplot(), examine the linear relationship between tips and total_bill across different dimensions to answer the following\n",
    "    - Do smoker/non-smoker give a higher tip as a percentage of total_bill (which line has a steeper slope)\n",
    "    - Are tips larger during lunch or dinner (as a percentage of total_bill)\n",
    "    - Does the gender that tips the most (as a percentage of total_bill) change between lunch and dinner?\n",
    "        - Answer the question by visual examination of lmplot output"
   ]
  },
  {
   "cell_type": "markdown",
   "metadata": {},
   "source": [
    "# Part A"
   ]
  },
  {
   "cell_type": "code",
   "execution_count": 5,
   "metadata": {},
   "outputs": [
    {
     "data": {
      "text/plain": [
       "2.99827868852459"
      ]
     },
     "execution_count": 5,
     "metadata": {},
     "output_type": "execute_result"
    }
   ],
   "source": [
    "\n",
    "#    - What is the average tip amount \n",
    "tips.tip.mean()"
   ]
  },
  {
   "cell_type": "code",
   "execution_count": 6,
   "metadata": {},
   "outputs": [
    {
     "data": {
      "text/plain": [
       "19.78594262295082"
      ]
     },
     "execution_count": 6,
     "metadata": {},
     "output_type": "execute_result"
    }
   ],
   "source": [
    "#    - What is the average bill amount \n",
    "tips.total_bill.mean()"
   ]
  },
  {
   "cell_type": "code",
   "execution_count": 3,
   "metadata": {},
   "outputs": [
    {
     "data": {
      "text/plain": [
       "sex\n",
       "Male      3.089618\n",
       "Female    2.833448\n",
       "Name: tip, dtype: float64"
      ]
     },
     "execution_count": 3,
     "metadata": {},
     "output_type": "execute_result"
    }
   ],
   "source": [
    "#    - What is the average tip by gender \n",
    "tips.groupby('sex')['tip'].mean()"
   ]
  },
  {
   "cell_type": "code",
   "execution_count": null,
   "metadata": {},
   "outputs": [],
   "source": [
    "#    - What is the average tip on a sunday by gender \n",
    "tips.where(tips['day'] == 'Sun').groupby('sex')['tip'].mean()"
   ]
  },
  {
   "cell_type": "code",
   "execution_count": null,
   "metadata": {},
   "outputs": [],
   "source": [
    "#    - Which party size gives the maximum tip as a percent of total bill amount \n",
    "tip_percent = tips.groupby('size').pipe(lambda percent: percent.tip.sum() / percent.total_bill.sum())\n",
    "tip_percent"
   ]
  },
  {
   "cell_type": "code",
   "execution_count": null,
   "metadata": {},
   "outputs": [],
   "source": [
    "tip_percent.max()\n"
   ]
  },
  {
   "cell_type": "markdown",
   "metadata": {},
   "source": [
    "# Part B\n",
    "###    - Generate a scatter plot of tip amount (y-axis) and total_bill (x-axis)\n",
    "###    - Generate the plots using matplotlib, bokeh and seaborn"
   ]
  },
  {
   "cell_type": "code",
   "execution_count": null,
   "metadata": {},
   "outputs": [],
   "source": [
    "#matplotlib\n",
    "import matplotlib.pyplot as plt\n",
    "plt.scatter(tips.total_bill,tips.tip)\n",
    "plt.xlabel('total_bill')\n",
    "plt.ylabel('tip')\n",
    "plt.title('scatter plot of tip amount (y-axis) and total_bill (x-axis)')"
   ]
  },
  {
   "cell_type": "code",
   "execution_count": null,
   "metadata": {},
   "outputs": [],
   "source": [
    "#bokeh\n",
    "from bokeh.io import output_notebook\n",
    "from bokeh.plotting import figure, show\n",
    "output_notebook()\n",
    "p = figure(x_axis_label = 'total_bill', y_axis_label = 'tip')\n",
    "p.circle(tips.total_bill,tips.tip)\n",
    "show(p)"
   ]
  },
  {
   "cell_type": "code",
   "execution_count": null,
   "metadata": {},
   "outputs": [],
   "source": [
    "#seaborn\n",
    "import seaborn as sns\n",
    "sns.jointplot(x = \"total_bill\", y = \"tip\", data = tips)"
   ]
  },
  {
   "cell_type": "code",
   "execution_count": null,
   "metadata": {},
   "outputs": [],
   "source": [
    "sns.regplot(x = \"total_bill\", y = \"tip\", data = tips);"
   ]
  },
  {
   "cell_type": "markdown",
   "metadata": {},
   "source": [
    "# Part C\n",
    "### - Generate a box plot that shows average bill amount by day of week\n",
    "### - Generate a box plot that shows average bill amount by gender\n",
    "### - Show the above two plots side by side\n",
    "### - Generate the same plots using matplotlib and bokeh"
   ]
  },
  {
   "cell_type": "code",
   "execution_count": null,
   "metadata": {},
   "outputs": [],
   "source": [
    "# Generate a box plot that shows average bill amount by day of week\n",
    "# Generate a box plot that shows average bill amount by gender\n",
    "tips.groupby('day')['total_bill'].mean()"
   ]
  },
  {
   "cell_type": "code",
   "execution_count": null,
   "metadata": {},
   "outputs": [],
   "source": [
    "import matplotlib.pyplot as plt\n",
    "plt.figure(figsize = (10,5))\n",
    "Thur = tips.loc[tips['day'] == 'Thur',:]\n",
    "Fri = tips.loc[tips['day'] == 'Fri',:]\n",
    "Sat = tips.loc[tips['day'] == 'Sat',:]\n",
    "Sun = tips.loc[tips['day'] == 'Sun',:]\n",
    "\n",
    "plt.boxplot([Thur['total_bill'], Fri['total_bill'], Sat['total_bill'], Sun['total_bill']])\n",
    "plt.gca().set_xticklabels(['Thur', 'Fri', 'Sat', 'Sun'])\n"
   ]
  },
  {
   "cell_type": "code",
   "execution_count": null,
   "metadata": {
    "scrolled": true
   },
   "outputs": [],
   "source": [
    "tips.groupby('sex')['total_bill'].mean()"
   ]
  },
  {
   "cell_type": "code",
   "execution_count": null,
   "metadata": {},
   "outputs": [],
   "source": [
    "Male = tips.loc[tips['sex'] == 'Male',:]\n",
    "Female = tips.loc[tips['sex'] == 'Female',:]\n",
    "\n",
    "plt.boxplot([Male['total_bill'], Female['total_bill']])\n",
    "plt.gca().set_xticklabels(['Male', 'Female'])"
   ]
  },
  {
   "cell_type": "code",
   "execution_count": null,
   "metadata": {
    "scrolled": true
   },
   "outputs": [],
   "source": [
    "#matplotlib\n",
    "import matplotlib.pyplot as plt\n",
    "plt.figure(figsize = (10,5))\n",
    "plt.subplot(1,2,1)\n",
    "Thur = tips.loc[tips['day'] == 'Thur',:]\n",
    "Fri = tips.loc[tips['day'] == 'Fri',:]\n",
    "Sat = tips.loc[tips['day'] == 'Sat',:]\n",
    "Sun = tips.loc[tips['day'] == 'Sun',:]\n",
    "\n",
    "plt.boxplot([Thur['total_bill'], Fri['total_bill'], Sat['total_bill'], Sun['total_bill']])\n",
    "plt.gca().set_xticklabels(['Thur', 'Fri', 'Sat', 'Sun'])\n",
    "\n",
    "plt.subplot(1,2,2)\n",
    "Male = tips.loc[tips['sex'] == 'Male',:]\n",
    "Female = tips.loc[tips['sex'] == 'Female',:]\n",
    "\n",
    "plt.boxplot([Male['total_bill'], Female['total_bill']])\n",
    "plt.gca().set_xticklabels(['Male', 'Female'])"
   ]
  },
  {
   "cell_type": "code",
   "execution_count": null,
   "metadata": {
    "scrolled": true
   },
   "outputs": [],
   "source": [
    "#bokeh\n",
    "import holoviews as hv\n",
    "from holoviews import dim, opts\n",
    "\n",
    "hv.extension('bokeh')\n",
    "title1 = \"Average bill amount by day of week\"\n",
    "boxwhisker1 = hv.BoxWhisker(tips, ['day'], ['total_bill'], label = title1)\n",
    "boxwhisker1.opts(show_legend = False, width = 400)"
   ]
  },
  {
   "cell_type": "code",
   "execution_count": null,
   "metadata": {},
   "outputs": [],
   "source": [
    "import holoviews as hv\n",
    "from holoviews import dim, opts\n",
    "\n",
    "hv.extension('bokeh')\n",
    "title2 = \"Average bill amount by gender\"\n",
    "boxwhisker2 = hv.BoxWhisker(tips, ['sex'], ['total_bill'], label = title2)\n",
    "boxwhisker2.opts(show_legend = False, width = 400)"
   ]
  },
  {
   "cell_type": "code",
   "execution_count": null,
   "metadata": {
    "scrolled": true
   },
   "outputs": [],
   "source": [
    "#bokeh\n",
    "import holoviews as hv\n",
    "from holoviews import dim, opts\n",
    "\n",
    "hv.extension('bokeh')\n",
    "title1 = \"Average bill amount by day of week\"\n",
    "boxwhisker1 = hv.BoxWhisker(tips, ['day'], ['total_bill'], label = title1)\n",
    "title2 = \"Average bill amount by gender\"\n",
    "boxwhisker2 = hv.BoxWhisker(tips, ['sex'], ['total_bill'], label = title2)\n",
    "\n",
    "(boxwhisker1.opts(show_legend = False, width = 400) + boxwhisker2.opts(show_legend = False, width = 400))\n"
   ]
  },
  {
   "cell_type": "markdown",
   "metadata": {},
   "source": [
    "# Part D\n",
    "###    - Using seaborn lmplot(), examine the linear relationship between tips and total_bill across different dimensions to answer the following\n",
    "###    - Do smoker/non-smoker give a higher tip as a percentage of total_bill (which line has a steeper slope)\n",
    "###    - Are tips larger during lunch or dinner (as a percentage of total_bill)\n",
    "###    - Does the gender that tips the most (as a percentage of total_bill) change between lunch and dinner?\n",
    "###        - Answer the question by visual examination of lmplot output"
   ]
  },
  {
   "cell_type": "code",
   "execution_count": null,
   "metadata": {
    "scrolled": true
   },
   "outputs": [],
   "source": [
    "tip_percent = tips.tip / tips.total_bill\n",
    "tips['tippercent'] = tip_percent\n",
    "tips"
   ]
  },
  {
   "cell_type": "markdown",
   "metadata": {},
   "source": [
    "### Smoker tend to give higher tip as a percentage of total_bill (the line of smoker has a steeper slope)"
   ]
  },
  {
   "cell_type": "code",
   "execution_count": null,
   "metadata": {},
   "outputs": [],
   "source": [
    "sns.lmplot(x = 'total_bill', y = 'tippercent', hue = 'smoker', data = tips)"
   ]
  },
  {
   "cell_type": "markdown",
   "metadata": {},
   "source": [
    "### The tip as a percentage of total_bill is larger during lunch"
   ]
  },
  {
   "cell_type": "code",
   "execution_count": null,
   "metadata": {
    "scrolled": true
   },
   "outputs": [],
   "source": [
    "sns.lmplot(x = 'total_bill', y = 'tippercent', hue = 'time', data = tips)"
   ]
  },
  {
   "cell_type": "markdown",
   "metadata": {},
   "source": [
    "### Yes, female tips the most during lunch, whereas male tips the most during dinner."
   ]
  },
  {
   "cell_type": "code",
   "execution_count": null,
   "metadata": {},
   "outputs": [],
   "source": [
    "sns.lmplot(x = 'total_bill', y = 'tippercent', hue = 'sex', col = 'time', data = tips)"
   ]
  },
  {
   "cell_type": "code",
   "execution_count": null,
   "metadata": {},
   "outputs": [],
   "source": []
  }
 ],
 "metadata": {
  "kernelspec": {
   "display_name": "ALY6140",
   "language": "python",
   "name": "py36"
  },
  "language_info": {
   "codemirror_mode": {
    "name": "ipython",
    "version": 3
   },
   "file_extension": ".py",
   "mimetype": "text/x-python",
   "name": "python",
   "nbconvert_exporter": "python",
   "pygments_lexer": "ipython3",
   "version": "3.7.4"
  }
 },
 "nbformat": 4,
 "nbformat_minor": 2
}
